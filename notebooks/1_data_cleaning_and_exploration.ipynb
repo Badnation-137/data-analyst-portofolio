{
 "cells": [
  {
   "cell_type": "markdown",
   "id": "36c82a95-83ce-4765-a234-9bc1430bae95",
   "metadata": {},
   "source": [
    "# 🧼 Data Cleaning & Exploration\n",
    "\n",
    "Notebook ini berisi proses pembersihan dan eksplorasi awal dataset menggunakan Pandas. Dataset yang digunakan merupakan simulasi dari praktikum, dan diolah untuk menunjukkan langkah-langkah dasar sebelum dilakukan visualisasi atau analisis statistik.\n"
   ]
  },
  {
   "cell_type": "markdown",
   "id": "1cbb8ced-972a-44f3-9064-2ab5123fc13d",
   "metadata": {},
   "source": [
    "🎯 Tujuan Notebook Ini:\n",
    "-Menunjukkan pemahaman dasar kamu dalam membaca dan membersihkan data\n",
    "-Menerapkan Pandas & NumPy\n",
    "-Notebook ini akan menyatukan isi dari Praktikum 6 dan PSD9 yang fokus pada data tabular"
   ]
  },
  {
   "cell_type": "code",
   "execution_count": 1,
   "id": "fa0a2012-a3f0-4559-a8db-91f01a86e48d",
   "metadata": {},
   "outputs": [],
   "source": [
    "import pandas as pd\n",
    "import numpy as np"
   ]
  },
  {
   "cell_type": "code",
   "execution_count": 8,
   "id": "d3671de7-0efe-49c9-b07b-1798c6286e83",
   "metadata": {},
   "outputs": [
    {
     "data": {
      "text/html": [
       "<div>\n",
       "<style scoped>\n",
       "    .dataframe tbody tr th:only-of-type {\n",
       "        vertical-align: middle;\n",
       "    }\n",
       "\n",
       "    .dataframe tbody tr th {\n",
       "        vertical-align: top;\n",
       "    }\n",
       "\n",
       "    .dataframe thead th {\n",
       "        text-align: right;\n",
       "    }\n",
       "</style>\n",
       "<table border=\"1\" class=\"dataframe\">\n",
       "  <thead>\n",
       "    <tr style=\"text-align: right;\">\n",
       "      <th></th>\n",
       "      <th>Nama</th>\n",
       "      <th>Nilai</th>\n",
       "      <th>Kelas</th>\n",
       "    </tr>\n",
       "  </thead>\n",
       "  <tbody>\n",
       "    <tr>\n",
       "      <th>0</th>\n",
       "      <td>Ali</td>\n",
       "      <td>80</td>\n",
       "      <td>A</td>\n",
       "    </tr>\n",
       "    <tr>\n",
       "      <th>1</th>\n",
       "      <td>Budi</td>\n",
       "      <td>90</td>\n",
       "      <td>B</td>\n",
       "    </tr>\n",
       "    <tr>\n",
       "      <th>2</th>\n",
       "      <td>Citra</td>\n",
       "      <td>78</td>\n",
       "      <td>A</td>\n",
       "    </tr>\n",
       "    <tr>\n",
       "      <th>3</th>\n",
       "      <td>Dina</td>\n",
       "      <td>75</td>\n",
       "      <td>C</td>\n",
       "    </tr>\n",
       "    <tr>\n",
       "      <th>4</th>\n",
       "      <td>Eko</td>\n",
       "      <td>85</td>\n",
       "      <td>B</td>\n",
       "    </tr>\n",
       "  </tbody>\n",
       "</table>\n",
       "</div>"
      ],
      "text/plain": [
       "    Nama  Nilai Kelas\n",
       "0    Ali     80     A\n",
       "1   Budi     90     B\n",
       "2  Citra     78     A\n",
       "3   Dina     75     C\n",
       "4    Eko     85     B"
      ]
     },
     "execution_count": 8,
     "metadata": {},
     "output_type": "execute_result"
    }
   ],
   "source": [
    "df = pd.read_csv('../data/nilai_siswa.csv')\n",
    "df.head()"
   ]
  },
  {
   "cell_type": "code",
   "execution_count": 7,
   "id": "d2f25495-4a47-4f81-9b9c-f6c202fee3c0",
   "metadata": {},
   "outputs": [
    {
     "name": "stdout",
     "output_type": "stream",
     "text": [
      "<class 'pandas.core.frame.DataFrame'>\n",
      "RangeIndex: 5 entries, 0 to 4\n",
      "Data columns (total 3 columns):\n",
      " #   Column  Non-Null Count  Dtype  \n",
      "---  ------  --------------  -----  \n",
      " 0   Nama    5 non-null      object \n",
      " 1   Nilai   5 non-null      float64\n",
      " 2   Kelas   5 non-null      object \n",
      "dtypes: float64(1), object(2)\n",
      "memory usage: 252.0+ bytes\n",
      "\n",
      "Missing values per kolom:\n",
      "Nama     0\n",
      "Nilai    0\n",
      "Kelas    0\n",
      "dtype: int64\n"
     ]
    },
    {
     "data": {
      "text/html": [
       "<div>\n",
       "<style scoped>\n",
       "    .dataframe tbody tr th:only-of-type {\n",
       "        vertical-align: middle;\n",
       "    }\n",
       "\n",
       "    .dataframe tbody tr th {\n",
       "        vertical-align: top;\n",
       "    }\n",
       "\n",
       "    .dataframe thead th {\n",
       "        text-align: right;\n",
       "    }\n",
       "</style>\n",
       "<table border=\"1\" class=\"dataframe\">\n",
       "  <thead>\n",
       "    <tr style=\"text-align: right;\">\n",
       "      <th></th>\n",
       "      <th>Nama</th>\n",
       "      <th>Nilai</th>\n",
       "      <th>Kelas</th>\n",
       "    </tr>\n",
       "  </thead>\n",
       "  <tbody>\n",
       "    <tr>\n",
       "      <th>0</th>\n",
       "      <td>Ali</td>\n",
       "      <td>80.0</td>\n",
       "      <td>A</td>\n",
       "    </tr>\n",
       "    <tr>\n",
       "      <th>1</th>\n",
       "      <td>Budi</td>\n",
       "      <td>90.0</td>\n",
       "      <td>B</td>\n",
       "    </tr>\n",
       "    <tr>\n",
       "      <th>2</th>\n",
       "      <td>Citra</td>\n",
       "      <td>82.5</td>\n",
       "      <td>A</td>\n",
       "    </tr>\n",
       "    <tr>\n",
       "      <th>3</th>\n",
       "      <td>Dina</td>\n",
       "      <td>75.0</td>\n",
       "      <td>C</td>\n",
       "    </tr>\n",
       "    <tr>\n",
       "      <th>4</th>\n",
       "      <td>Eko</td>\n",
       "      <td>85.0</td>\n",
       "      <td>B</td>\n",
       "    </tr>\n",
       "  </tbody>\n",
       "</table>\n",
       "</div>"
      ],
      "text/plain": [
       "    Nama  Nilai Kelas\n",
       "0    Ali   80.0     A\n",
       "1   Budi   90.0     B\n",
       "2  Citra   82.5     A\n",
       "3   Dina   75.0     C\n",
       "4    Eko   85.0     B"
      ]
     },
     "execution_count": 7,
     "metadata": {},
     "output_type": "execute_result"
    }
   ],
   "source": [
    "# Cek struktur data\n",
    "df.info()\n",
    "\n",
    "# Cek nilai kosong\n",
    "print(\"\\nMissing values per kolom:\")\n",
    "print(df.isnull().sum())\n",
    "\n",
    "# Isi nilai kosong dengan rata-rata\n",
    "mean_nilai = df[\"Nilai\"].mean()\n",
    "df[\"Nilai\"] = df[\"Nilai\"].fillna(mean_nilai)\n",
    "\n",
    "\n",
    "# Cek hasil akhir\n",
    "df"
   ]
  },
  {
   "cell_type": "code",
   "execution_count": null,
   "id": "d61f5ad2-7deb-49cb-ae69-2e9799fd19b6",
   "metadata": {},
   "outputs": [],
   "source": []
  }
 ],
 "metadata": {
  "kernelspec": {
   "display_name": "Python 3 (ipykernel)",
   "language": "python",
   "name": "python3"
  },
  "language_info": {
   "codemirror_mode": {
    "name": "ipython",
    "version": 3
   },
   "file_extension": ".py",
   "mimetype": "text/x-python",
   "name": "python",
   "nbconvert_exporter": "python",
   "pygments_lexer": "ipython3",
   "version": "3.12.10"
  }
 },
 "nbformat": 4,
 "nbformat_minor": 5
}
