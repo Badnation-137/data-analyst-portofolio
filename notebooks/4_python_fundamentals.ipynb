{
 "cells": [
  {
   "cell_type": "markdown",
   "id": "2ca21d56-a5ca-4f8c-9f5a-d3badf24532d",
   "metadata": {},
   "source": [
    "# 🧮 Python Fundamentals\n",
    "\n",
    "Notebook ini mendemonstrasikan dasar pemrograman Python:\n",
    "- Fungsi biasa (`def`)\n",
    "- Fungsi lambda (anonymous)\n",
    "- Rekursi (recursive function)\n",
    "\n",
    "Pemahaman dasar ini penting dalam membangun solusi berbasis data secara efisien."
   ]
  },
  {
   "cell_type": "markdown",
   "id": "03c5329b-4780-4138-8863-6b8a178a9b0b",
   "metadata": {},
   "source": [
    "🎯 Tujuan:\n",
    "\n",
    "Menunjukkan bahwa kamu menguasai dasar pemrograman Python:\n",
    "-Fungsi biasa (def)\n",
    "-Fungsi lambda\n",
    "-Rekursi (fungsi yang memanggil dirinya sendiri)"
   ]
  },
  {
   "cell_type": "code",
   "execution_count": 1,
   "id": "8c6c8bdd-1757-4858-8114-efe3a0f1ac05",
   "metadata": {},
   "outputs": [
    {
     "name": "stdout",
     "output_type": "stream",
     "text": [
      "Luas lingkaran dengan jari-jari 7: 153.93791\n"
     ]
    }
   ],
   "source": [
    "def hitung_luas_lingkaran(jari_jari):\n",
    "    pi = 3.14159\n",
    "    luas = pi * jari_jari**2\n",
    "    return luas\n",
    "\n",
    "# Contoh penggunaan:\n",
    "print(\"Luas lingkaran dengan jari-jari 7:\", hitung_luas_lingkaran(7))"
   ]
  },
  {
   "cell_type": "code",
   "execution_count": 2,
   "id": "6d35b6a7-cd1f-43a3-8cec-47ed23801721",
   "metadata": {},
   "outputs": [
    {
     "name": "stdout",
     "output_type": "stream",
     "text": [
      "Hasil kuadrat dari 5: 25\n",
      "3 + 7 = 10\n"
     ]
    }
   ],
   "source": [
    "# Fungsi lambda untuk kuadrat\n",
    "kuadrat = lambda x: x**2\n",
    "print(\"Hasil kuadrat dari 5:\", kuadrat(5))\n",
    "\n",
    "# Fungsi lambda untuk penjumlahan\n",
    "tambah = lambda a, b: a + b\n",
    "print(\"3 + 7 =\", tambah(3, 7))"
   ]
  },
  {
   "cell_type": "code",
   "execution_count": 3,
   "id": "039d1d12-1921-47ca-ab08-d64f2dbe8f11",
   "metadata": {},
   "outputs": [
    {
     "name": "stdout",
     "output_type": "stream",
     "text": [
      "Faktorial dari 5: 120\n"
     ]
    }
   ],
   "source": [
    "def faktorial(n):\n",
    "    if n == 0 or n == 1:\n",
    "        return 1\n",
    "    else:\n",
    "        return n * faktorial(n - 1)\n",
    "\n",
    "# Contoh penggunaan\n",
    "print(\"Faktorial dari 5:\", faktorial(5))"
   ]
  },
  {
   "cell_type": "markdown",
   "id": "c8771319-f70e-442d-aba6-fe38c7f72511",
   "metadata": {},
   "source": [
    "🧠 Insight Sederhana\n",
    "- Fungsi dasar berguna untuk modularisasi kode\n",
    "- Lambda function ringkas tapi kuat untuk operasi kecil\n",
    "- Rekursi cocok untuk pola matematis berulang (seperti faktorial, Fibonacci)"
   ]
  }
 ],
 "metadata": {
  "kernelspec": {
   "display_name": "Python 3 (ipykernel)",
   "language": "python",
   "name": "python3"
  },
  "language_info": {
   "codemirror_mode": {
    "name": "ipython",
    "version": 3
   },
   "file_extension": ".py",
   "mimetype": "text/x-python",
   "name": "python",
   "nbconvert_exporter": "python",
   "pygments_lexer": "ipython3",
   "version": "3.12.10"
  }
 },
 "nbformat": 4,
 "nbformat_minor": 5
}
