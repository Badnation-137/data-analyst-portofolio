{
 "cells": [
  {
   "cell_type": "code",
   "execution_count": null,
   "id": "9187f30c-f3d1-4aad-b6d8-e025cb50bac0",
   "metadata": {},
   "outputs": [],
   "source": [
    "# 📈 Statistical Summary\n",
    "\n",
    "Notebook ini melakukan analisis statistik deskriptif seperti:\n",
    "- Mean (rata-rata)\n",
    "- Median (nilai tengah)\n",
    "- Modus (nilai paling sering)\n",
    "- Standard Deviation (penyebaran data)\n",
    "\n",
    "Statistik ini penting untuk memahami seberapa tersebar dan terpusat data numerik yang dianalisis."
   ]
  },
  {
   "cell_type": "markdown",
   "id": "63a8baee-d18a-400c-9b8d-a1b049b95fc7",
   "metadata": {},
   "source": [
    "🎯 Tujuan:\n",
    "\n",
    "Notebook ini akan melakukan analisis statistik dasar (statistik deskriptif) terhadap data numerik menggunakan:\n",
    "-numpy\n",
    "-statistics (modul bawaan Python)"
   ]
  },
  {
   "cell_type": "code",
   "execution_count": 2,
   "id": "48e34eea-9ce6-4a67-9b7f-2a9929653373",
   "metadata": {},
   "outputs": [],
   "source": [
    "import numpy as np\n",
    "import statistics as stats\n",
    "import pandas as pd"
   ]
  },
  {
   "cell_type": "code",
   "execution_count": 5,
   "id": "055ae1cb-c9d2-4a2a-8f16-780f171470e0",
   "metadata": {},
   "outputs": [
    {
     "data": {
      "text/html": [
       "<div>\n",
       "<style scoped>\n",
       "    .dataframe tbody tr th:only-of-type {\n",
       "        vertical-align: middle;\n",
       "    }\n",
       "\n",
       "    .dataframe tbody tr th {\n",
       "        vertical-align: top;\n",
       "    }\n",
       "\n",
       "    .dataframe thead th {\n",
       "        text-align: right;\n",
       "    }\n",
       "</style>\n",
       "<table border=\"1\" class=\"dataframe\">\n",
       "  <thead>\n",
       "    <tr style=\"text-align: right;\">\n",
       "      <th></th>\n",
       "      <th>Nama</th>\n",
       "      <th>Nilai</th>\n",
       "      <th>Kelas</th>\n",
       "    </tr>\n",
       "  </thead>\n",
       "  <tbody>\n",
       "    <tr>\n",
       "      <th>0</th>\n",
       "      <td>Ali</td>\n",
       "      <td>80</td>\n",
       "      <td>A</td>\n",
       "    </tr>\n",
       "    <tr>\n",
       "      <th>1</th>\n",
       "      <td>Budi</td>\n",
       "      <td>90</td>\n",
       "      <td>B</td>\n",
       "    </tr>\n",
       "    <tr>\n",
       "      <th>2</th>\n",
       "      <td>Citra</td>\n",
       "      <td>78</td>\n",
       "      <td>A</td>\n",
       "    </tr>\n",
       "    <tr>\n",
       "      <th>3</th>\n",
       "      <td>Dina</td>\n",
       "      <td>75</td>\n",
       "      <td>C</td>\n",
       "    </tr>\n",
       "    <tr>\n",
       "      <th>4</th>\n",
       "      <td>Eko</td>\n",
       "      <td>85</td>\n",
       "      <td>B</td>\n",
       "    </tr>\n",
       "  </tbody>\n",
       "</table>\n",
       "</div>"
      ],
      "text/plain": [
       "    Nama  Nilai Kelas\n",
       "0    Ali     80     A\n",
       "1   Budi     90     B\n",
       "2  Citra     78     A\n",
       "3   Dina     75     C\n",
       "4    Eko     85     B"
      ]
     },
     "execution_count": 5,
     "metadata": {},
     "output_type": "execute_result"
    }
   ],
   "source": [
    "df = pd.read_csv('../data/nilai_siswa.csv')\n",
    "df.head()"
   ]
  },
  {
   "cell_type": "code",
   "execution_count": 6,
   "id": "16dec615-ef57-4729-96b6-3beaf3b91125",
   "metadata": {},
   "outputs": [
    {
     "name": "stdout",
     "output_type": "stream",
     "text": [
      "Mean (rata-rata): 81.6\n",
      "Median (nilai tengah): 80.0\n",
      "Modus: 80\n",
      "Standar Deviasi: 5.314132102234569\n"
     ]
    }
   ],
   "source": [
    "nilai = df[\"Nilai\"]\n",
    "\n",
    "print(\"Mean (rata-rata):\", np.mean(nilai))\n",
    "print(\"Median (nilai tengah):\", np.median(nilai))\n",
    "print(\"Modus:\", stats.mode(nilai))\n",
    "print(\"Standar Deviasi:\", np.std(nilai))\n"
   ]
  },
  {
   "cell_type": "markdown",
   "id": "7b8cb265-5190-436d-a0cb-76f77a8c2426",
   "metadata": {},
   "source": [
    "🧠 Insight Sederhana\n",
    "- Rata-rata nilai siswa adalah 81.6\n",
    "- Nilai median: 80 → data relatif seimbang\n",
    "- Nilai paling sering (modus): 75 (jika data duplikat ada)\n",
    "- Penyebaran nilai cukup kecil, data terkonsentrasi"
   ]
  }
 ],
 "metadata": {
  "kernelspec": {
   "display_name": "Python 3 (ipykernel)",
   "language": "python",
   "name": "python3"
  },
  "language_info": {
   "codemirror_mode": {
    "name": "ipython",
    "version": 3
   },
   "file_extension": ".py",
   "mimetype": "text/x-python",
   "name": "python",
   "nbconvert_exporter": "python",
   "pygments_lexer": "ipython3",
   "version": "3.12.10"
  }
 },
 "nbformat": 4,
 "nbformat_minor": 5
}
