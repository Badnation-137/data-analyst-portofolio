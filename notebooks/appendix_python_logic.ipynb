{
 "cells": [
  {
   "cell_type": "markdown",
   "id": "3a16c1bc-1eac-4f98-8ea0-6be824c2e7ba",
   "metadata": {},
   "source": [
    "# 🔄 Appendix: Python Logic & Control Flow\n",
    "\n",
    "Notebook ini menampilkan dasar logika pemrograman Python seperti:\n",
    "- Percabangan `if-elif-else`\n",
    "- Perulangan `for` dan `while`\n",
    "- Contoh penggunaan logika pada data numerik\n",
    "\n",
    "Notebook ini menunjukkan kemampuan dasar dalam menyusun alur logis dan berpikir algoritmik."
   ]
  },
  {
   "cell_type": "code",
   "execution_count": 1,
   "id": "938de256-b0d7-4bec-bc30-2d8e841298d2",
   "metadata": {},
   "outputs": [
    {
     "name": "stdout",
     "output_type": "stream",
     "text": [
      "Grade: B\n"
     ]
    }
   ],
   "source": [
    "nilai = 85\n",
    "\n",
    "if nilai >= 90:\n",
    "    print(\"Grade: A\")\n",
    "elif nilai >= 80:\n",
    "    print(\"Grade: B\")\n",
    "elif nilai >= 70:\n",
    "    print(\"Grade: C\")\n",
    "else:\n",
    "    print(\"Grade: D atau E\")\n"
   ]
  },
  {
   "cell_type": "code",
   "execution_count": 2,
   "id": "ddaaeed8-cec9-4987-80ce-041de4ad0eca",
   "metadata": {},
   "outputs": [
    {
     "name": "stdout",
     "output_type": "stream",
     "text": [
      "Jumlah 1 sampai 5: 15\n"
     ]
    }
   ],
   "source": [
    "# Menjumlahkan angka dari 1 sampai 5\n",
    "jumlah = 0\n",
    "for i in range(1, 6):\n",
    "    jumlah += i\n",
    "print(\"Jumlah 1 sampai 5:\", jumlah)\n"
   ]
  },
  {
   "cell_type": "code",
   "execution_count": 3,
   "id": "12939e3e-d45b-4fc3-8d87-af7c297d24f9",
   "metadata": {},
   "outputs": [
    {
     "name": "stdout",
     "output_type": "stream",
     "text": [
      "Perulangan ke- 1\n",
      "Perulangan ke- 2\n",
      "Perulangan ke- 3\n",
      "Perulangan ke- 4\n",
      "Perulangan ke- 5\n"
     ]
    }
   ],
   "source": [
    "i = 1\n",
    "while i <= 5:\n",
    "    print(\"Perulangan ke-\", i)\n",
    "    i += 1"
   ]
  },
  {
   "cell_type": "code",
   "execution_count": 4,
   "id": "a955f859-1ac7-4929-801b-584796c1b362",
   "metadata": {},
   "outputs": [
    {
     "name": "stdout",
     "output_type": "stream",
     "text": [
      "11 adalah bilangan ganjil\n"
     ]
    }
   ],
   "source": [
    "# Cek bilangan ganjil genap\n",
    "angka = 11\n",
    "if angka % 2 == 0:\n",
    "    print(angka, \"adalah bilangan genap\")\n",
    "else:\n",
    "    print(angka, \"adalah bilangan ganjil\")"
   ]
  },
  {
   "cell_type": "markdown",
   "id": "345930ee-a67d-4bb0-907c-466cdbdb14e3",
   "metadata": {},
   "source": [
    "🧠 Insight Sederhana\n",
    "- Percabangan digunakan untuk pengambilan keputusan logis\n",
    "- Perulangan efektif dalam pengolahan data berulang\n",
    "- Kode logika adalah fondasi penting dalam scripting data"
   ]
  }
 ],
 "metadata": {
  "kernelspec": {
   "display_name": "Python 3 (ipykernel)",
   "language": "python",
   "name": "python3"
  },
  "language_info": {
   "codemirror_mode": {
    "name": "ipython",
    "version": 3
   },
   "file_extension": ".py",
   "mimetype": "text/x-python",
   "name": "python",
   "nbconvert_exporter": "python",
   "pygments_lexer": "ipython3",
   "version": "3.12.10"
  }
 },
 "nbformat": 4,
 "nbformat_minor": 5
}
